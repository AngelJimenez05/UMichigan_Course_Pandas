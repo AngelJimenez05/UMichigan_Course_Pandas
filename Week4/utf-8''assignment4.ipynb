{
 "cells": [
  {
   "cell_type": "markdown",
   "metadata": {
    "deletable": false,
    "editable": false,
    "nbgrader": {
     "checksum": "48770f8b5f5d3062d3badd51fcafc401",
     "grade": false,
     "grade_id": "cell-a6c4f74309fc2379",
     "locked": true,
     "schema_version": 1,
     "solution": false
    }
   },
   "source": [
    "# Assignment 4\n",
    "## Description\n",
    "In this assignment you must read in a file of metropolitan regions and associated sports teams from [assets/wikipedia_data.html](assets/wikipedia_data.html) and answer some questions about each metropolitan region. Each of these regions may have one or more teams from the \"Big 4\": NFL (football, in [assets/nfl.csv](assets/nfl.csv)), MLB (baseball, in [assets/mlb.csv](assets/mlb.csv)), NBA (basketball, in [assets/nba.csv](assets/nba.csv) or NHL (hockey, in [assets/nhl.csv](assets/nhl.csv)). Please keep in mind that all questions are from the perspective of the metropolitan region, and that this file is the \"source of authority\" for the location of a given sports team. Thus teams which are commonly known by a different area (e.g. \"Oakland Raiders\") need to be mapped into the metropolitan region given (e.g. San Francisco Bay Area). This will require some human data understanding outside of the data you've been given (e.g. you will have to hand-code some names, and might need to google to find out where teams are)!\n",
    "\n",
    "For each sport I would like you to answer the question: **what is the win/loss ratio's correlation with the population of the city it is in?** Win/Loss ratio refers to the number of wins over the number of wins plus the number of losses. Remember that to calculate the correlation with [`pearsonr`](https://docs.scipy.org/doc/scipy/reference/generated/scipy.stats.pearsonr.html), so you are going to send in two ordered lists of values, the populations from the wikipedia_data.html file and the win/loss ratio for a given sport in the same order. Average the win/loss ratios for those cities which have multiple teams of a single sport. Each sport is worth an equal amount in this assignment (20%\\*4=80%) of the grade for this assignment. You should only use data **from year 2018** for your analysis -- this is important!\n",
    "\n",
    "## Notes\n",
    "\n",
    "1. Do not include data about the MLS or CFL in any of the work you are doing, we're only interested in the Big 4 in this assignment.\n",
    "2. I highly suggest that you first tackle the four correlation questions in order, as they are all similar and worth the majority of grades for this assignment. This is by design!\n",
    "3. It's fair game to talk with peers about high level strategy as well as the relationship between metropolitan areas and sports teams. However, do not post code solving aspects of the assignment (including such as dictionaries mapping areas to teams, or regexes which will clean up names).\n",
    "4. There may be more teams than the assert statements test, remember to collapse multiple teams in one city into a single value!"
   ]
  },
  {
   "cell_type": "code",
   "execution_count": 1,
   "metadata": {},
   "outputs": [],
   "source": [
    "# Haciendo la funcion:\n",
    "def mi_funcion_chula(game_df,game_column):# (nhl_df,\"NHL\")\n",
    "        \n",
    "    global cities\n",
    "    \n",
    "    # Seleccionando el año a analizar:\n",
    "    game_df = game_df[game_df[\"year\"] == 2018]\n",
    "    \n",
    "    # Haciendo limpieza y manejo de datos del dataframe a analizar:\n",
    "    game_df = game_df[game_df.iloc[:,0]!=game_df.iloc[:,1]]\n",
    "    game_df[\"team\"] = game_df[\"team\"].replace({\"\\s\\(\\d{1,2}\\)\":\"\"}, regex=True) # Elimina espacio y paréntesis    \n",
    "    game_df[\"team\"] = game_df[\"team\"].replace({\"\\+|\\*\":\"\"}, regex=True) # Elimina signo + o *\n",
    "    #game_df[\"team\"] = game_df[\"team\"].replace({\"[^\\w ]\":\"\"}, regex=True) # Es más general que la anterior\n",
    "    game_df[[\"W\",\"L\"]] = game_df[[\"W\",\"L\"]].apply(pd.to_numeric)\n",
    "    game_df[\"win/loss\"] = game_df[\"W\"]/(game_df[\"W\"]+game_df[\"L\"])\n",
    "    \n",
    "    # Haciendo limpieza y manejo de datos del dataframe \"Cities\"\n",
    "    cities = cities.replace({\"\\[[\\w ]*\\]\":\"\"}, regex=True)\n",
    "    cities[\"Population (2016 est.)[8]\"] = cities[\"Population (2016 est.)[8]\"].apply(pd.to_numeric)\n",
    "    \n",
    "    # Agregando las columnas necesarias para la correlación al dataframe a analizar:\n",
    "    metropolitan_area = []\n",
    "    population = []\n",
    "    for team in game_df[\"team\"]:\n",
    "        for teams in cities[game_column]:\n",
    "            if team.split(\" \")[-1] in teams:\n",
    "                row = cities[cities[game_column] == teams]\n",
    "                metropolitan_area.append(cities[\"Metropolitan area\"].iloc[row.index].iloc[0])\n",
    "                population.append(cities[\"Population (2016 est.)[8]\"].iloc[row.index].iloc[0])\n",
    "    game_df[\"Metropolitan area\"] = metropolitan_area\n",
    "    game_df[\"Population (2016 est.)[8]\"] = population\n",
    "    \n",
    "    #Hacemos un merge y lo ajustamos al orden del df \"cities\" con solo las columnas que nos interesan:\n",
    "    the_df = (pd.DataFrame.merge(cities, right=game_df, how=\"left\", on=\"Metropolitan area\")\n",
    "                 .dropna()[[\"Metropolitan area\",\"Population (2016 est.)[8]_x\",\"win/loss\"]])\n",
    "    \n",
    "    # El DataFrame resultante tiene 2 columnas para ser utilizadas en la correlación.\n",
    "    result = the_df.groupby(\"Metropolitan area\", sort=False).agg({\"Population (2016 est.)[8]_x\": np.mean, \"win/loss\": np.mean})\n",
    "    \n",
    "    return result\n",
    "\n",
    "# La funcion debe retornar el df con las nuevas columnas"
   ]
  },
  {
   "cell_type": "markdown",
   "metadata": {
    "deletable": false,
    "editable": false,
    "nbgrader": {
     "checksum": "369ff9ecf0ee04640574205cbc697f94",
     "grade": false,
     "grade_id": "cell-712b2b5da63d4505",
     "locked": true,
     "schema_version": 1,
     "solution": false
    }
   },
   "source": [
    "## Question 1\n",
    "For this question, calculate the win/loss ratio's correlation with the population of the city it is in for the **NHL** using **2018** data."
   ]
  },
  {
   "cell_type": "code",
   "execution_count": 2,
   "metadata": {
    "deletable": false,
    "nbgrader": {
     "checksum": "1cac4803b02502929f5b1612d48db2b5",
     "grade": false,
     "grade_id": "cell-69b16e4386e58030",
     "locked": false,
     "schema_version": 1,
     "solution": true
    }
   },
   "outputs": [],
   "source": [
    "import pandas as pd\n",
    "import numpy as np\n",
    "import scipy.stats as stats\n",
    "import re\n",
    "\n",
    "nhl_df=pd.read_csv(\"utf-8''nhl.csv\")\n",
    "cities=pd.read_html(\"utf-8''wikipedia_data.html\")[1]\n",
    "cities=cities.iloc[:-1,[0,3,5,6,7,8]]\n",
    "\n",
    "def nhl_correlation(): \n",
    "    df = mi_funcion_chula(nhl_df,\"NHL\")\n",
    "    #raise NotImplementedError()\n",
    "    \n",
    "    population_by_region = df[\"Population (2016 est.)[8]_x\"] # enter metropolitan area population from cities\n",
    "    win_loss_by_region = df[\"win/loss\"] # enter win/loss ratio from nhl_df in the same order as cities[\"Metropolitan area\"]\n",
    "\n",
    "    assert len(population_by_region) == len(win_loss_by_region), \"Q1: Your lists must be the same length\"\n",
    "    assert len(population_by_region) == 28, \"Q1: There should be 28 teams being analysed for NHL\"\n",
    "    \n",
    "    return stats.pearsonr(population_by_region, win_loss_by_region)"
   ]
  },
  {
   "cell_type": "code",
   "execution_count": 3,
   "metadata": {},
   "outputs": [
    {
     "data": {
      "text/plain": [
       "(0.012486162921209912, 0.9497182859911781)"
      ]
     },
     "execution_count": 3,
     "metadata": {},
     "output_type": "execute_result"
    }
   ],
   "source": [
    "nhl_correlation()"
   ]
  },
  {
   "cell_type": "code",
   "execution_count": null,
   "metadata": {
    "deletable": false,
    "editable": false,
    "nbgrader": {
     "checksum": "52a581df513c71153e105b93764cda4b",
     "grade": true,
     "grade_id": "cell-ebe0b2dfe1067e63",
     "locked": true,
     "points": 20,
     "schema_version": 1,
     "solution": false
    }
   },
   "outputs": [],
   "source": []
  },
  {
   "cell_type": "markdown",
   "metadata": {
    "deletable": false,
    "editable": false,
    "nbgrader": {
     "checksum": "988912cae4968d81473f46d783e79c16",
     "grade": false,
     "grade_id": "cell-cb964e690298b71d",
     "locked": true,
     "schema_version": 1,
     "solution": false
    }
   },
   "source": [
    "## Question 2\n",
    "For this question, calculate the win/loss ratio's correlation with the population of the city it is in for the **NBA** using **2018** data."
   ]
  },
  {
   "cell_type": "code",
   "execution_count": 4,
   "metadata": {
    "deletable": false,
    "nbgrader": {
     "checksum": "9394222aafc8ccab0a228098ba0d6010",
     "grade": false,
     "grade_id": "cell-5a5f21279e3d3572",
     "locked": false,
     "schema_version": 1,
     "solution": true
    }
   },
   "outputs": [],
   "source": [
    "import pandas as pd\n",
    "import numpy as np\n",
    "import scipy.stats as stats\n",
    "import re\n",
    "\n",
    "nba_df=pd.read_csv(\"utf-8''nba.csv\")\n",
    "cities=pd.read_html(\"utf-8''wikipedia_data.html\")[1]\n",
    "cities=cities.iloc[:-1,[0,3,5,6,7,8]]\n",
    "\n",
    "def nba_correlation():\n",
    "    df = mi_funcion_chula(nba_df,\"NBA\")\n",
    "    #raise NotImplementedError()\n",
    "    \n",
    "    population_by_region = df[\"Population (2016 est.)[8]_x\"] # pass in metropolitan area population from cities\n",
    "    win_loss_by_region = df[\"win/loss\"] # pass in win/loss ratio from nba_df in the same order as cities[\"Metropolitan area\"]\n",
    "\n",
    "    assert len(population_by_region) == len(win_loss_by_region), \"Q2: Your lists must be the same length\"\n",
    "    assert len(population_by_region) == 28, \"Q2: There should be 28 teams being analysed for NBA\"\n",
    "\n",
    "    return stats.pearsonr(population_by_region, win_loss_by_region)"
   ]
  },
  {
   "cell_type": "code",
   "execution_count": 5,
   "metadata": {},
   "outputs": [
    {
     "data": {
      "text/plain": [
       "(-0.17657160252844617, 0.36874741604463)"
      ]
     },
     "execution_count": 5,
     "metadata": {},
     "output_type": "execute_result"
    }
   ],
   "source": [
    "nba_correlation()"
   ]
  },
  {
   "cell_type": "code",
   "execution_count": null,
   "metadata": {
    "deletable": false,
    "editable": false,
    "nbgrader": {
     "checksum": "bbdeb8eb22f525a34c10dc8798324e42",
     "grade": true,
     "grade_id": "cell-e573b2b4a282b470",
     "locked": true,
     "points": 20,
     "schema_version": 1,
     "solution": false
    }
   },
   "outputs": [],
   "source": []
  },
  {
   "cell_type": "markdown",
   "metadata": {
    "deletable": false,
    "editable": false,
    "nbgrader": {
     "checksum": "1a1a5809f675ca033086422007cd73bd",
     "grade": false,
     "grade_id": "cell-96e15e4335df78f4",
     "locked": true,
     "schema_version": 1,
     "solution": false
    }
   },
   "source": [
    "## Question 3\n",
    "For this question, calculate the win/loss ratio's correlation with the population of the city it is in for the **MLB** using **2018** data."
   ]
  },
  {
   "cell_type": "code",
   "execution_count": 6,
   "metadata": {
    "deletable": false,
    "nbgrader": {
     "checksum": "27e8c0da6c9fa0dffc10488314335b6c",
     "grade": false,
     "grade_id": "cell-33b00fc3f3467b0c",
     "locked": false,
     "schema_version": 1,
     "solution": true
    }
   },
   "outputs": [],
   "source": [
    "import pandas as pd\n",
    "import numpy as np\n",
    "import scipy.stats as stats\n",
    "import re\n",
    "\n",
    "mlb_df=pd.read_csv(\"utf-8''mlb.csv\")\n",
    "mlb_df.iloc[0,0] = 'Red_Sox'\n",
    "mlb_df.iloc[8,0] = 'White_Sox'\n",
    "cities=pd.read_html(\"utf-8''wikipedia_data.html\")[1]\n",
    "cities=cities.iloc[:-1,[0,3,5,6,7,8]]\n",
    "cities.iloc[3,3] = \"CubsWhite_Sox\"\n",
    "cities.iloc[7,3] = \"Red_Sox\"\n",
    "def mlb_correlation(): \n",
    "    df = mi_funcion_chula(mlb_df,\"MLB\")\n",
    "    #raise NotImplementedError()\n",
    "    \n",
    "    population_by_region = df[\"Population (2016 est.)[8]_x\"] # pass in metropolitan area population from cities\n",
    "    win_loss_by_region = df[\"win/loss\"] # pass in win/loss ratio from mlb_df in the same order as cities[\"Metropolitan area\"]\n",
    "\n",
    "    assert len(population_by_region) == len(win_loss_by_region), \"Q3: Your lists must be the same length\"\n",
    "    assert len(population_by_region) == 26, \"Q3: There should be 26 teams being analysed for MLB\"\n",
    "    return stats.pearsonr(population_by_region, win_loss_by_region)"
   ]
  },
  {
   "cell_type": "code",
   "execution_count": 7,
   "metadata": {},
   "outputs": [
    {
     "data": {
      "text/plain": [
       "(0.1502769830266931, 0.46370703378875605)"
      ]
     },
     "execution_count": 7,
     "metadata": {},
     "output_type": "execute_result"
    }
   ],
   "source": [
    "mlb_correlation()"
   ]
  },
  {
   "cell_type": "code",
   "execution_count": null,
   "metadata": {
    "deletable": false,
    "editable": false,
    "nbgrader": {
     "checksum": "cda33b094ba19ccc37a481e0dd29e0bc",
     "grade": true,
     "grade_id": "cell-764d4476f425c5a2",
     "locked": true,
     "points": 20,
     "schema_version": 1,
     "solution": false
    }
   },
   "outputs": [],
   "source": []
  },
  {
   "cell_type": "markdown",
   "metadata": {
    "deletable": false,
    "editable": false,
    "nbgrader": {
     "checksum": "6977a6da9ed6d8b7a0b7e37bbeda709b",
     "grade": false,
     "grade_id": "cell-793df6c04dfb126e",
     "locked": true,
     "schema_version": 1,
     "solution": false
    }
   },
   "source": [
    "## Question 4\n",
    "For this question, calculate the win/loss ratio's correlation with the population of the city it is in for the **NFL** using **2018** data."
   ]
  },
  {
   "cell_type": "code",
   "execution_count": 8,
   "metadata": {
    "deletable": false,
    "nbgrader": {
     "checksum": "c4914ad1e119278ec2bd567c52640b66",
     "grade": false,
     "grade_id": "cell-8ccebc209aeec8d9",
     "locked": false,
     "schema_version": 1,
     "solution": true
    }
   },
   "outputs": [],
   "source": [
    "import pandas as pd\n",
    "import numpy as np\n",
    "import scipy.stats as stats\n",
    "import re\n",
    "\n",
    "nfl_df=pd.read_csv(\"utf-8''nfl.csv\")\n",
    "cities=pd.read_html(\"utf-8''wikipedia_data.html\")[1]\n",
    "cities=cities.iloc[:-1,[0,3,5,6,7,8]]\n",
    "\n",
    "def nfl_correlation(): \n",
    "    df = mi_funcion_chula(nfl_df,\"NFL\")\n",
    "    #raise NotImplementedError()\n",
    "    \n",
    "    population_by_region = df[\"Population (2016 est.)[8]_x\"] # pass in metropolitan area population from cities\n",
    "    win_loss_by_region = df[\"win/loss\"] # pass in win/loss ratio from mlb_df in the same order as cities[\"Metropolitan area\"]\n",
    "\n",
    "    assert len(population_by_region) == len(win_loss_by_region), \"Q4: Your lists must be the same length\"\n",
    "    assert len(population_by_region) == 29, \"Q4: There should be 29 teams being analysed for NFL\"\n",
    "\n",
    "    return stats.pearsonr(population_by_region, win_loss_by_region)"
   ]
  },
  {
   "cell_type": "code",
   "execution_count": 9,
   "metadata": {},
   "outputs": [
    {
     "data": {
      "text/plain": [
       "(0.004922112149349386, 0.979783345836372)"
      ]
     },
     "execution_count": 9,
     "metadata": {},
     "output_type": "execute_result"
    }
   ],
   "source": [
    "nfl_correlation()"
   ]
  },
  {
   "cell_type": "code",
   "execution_count": null,
   "metadata": {
    "deletable": false,
    "editable": false,
    "nbgrader": {
     "checksum": "e9415d6399aa49e3a1a60813afdefa3b",
     "grade": true,
     "grade_id": "cell-de7b148b9554dbda",
     "locked": true,
     "points": 20,
     "schema_version": 1,
     "solution": false
    }
   },
   "outputs": [],
   "source": []
  },
  {
   "cell_type": "markdown",
   "metadata": {
    "deletable": false,
    "editable": false,
    "nbgrader": {
     "checksum": "b02d5cd3273f561e4ae939bb2a41740c",
     "grade": false,
     "grade_id": "cell-97b49d8639e908c4",
     "locked": true,
     "schema_version": 1,
     "solution": false
    }
   },
   "source": [
    "## Question 5\n",
    "In this question I would like you to explore the hypothesis that **given that an area has two sports teams in different sports, those teams will perform the same within their respective sports**. How I would like to see this explored is with a series of paired t-tests (so use [`ttest_rel`](https://docs.scipy.org/doc/scipy/reference/generated/scipy.stats.ttest_rel.html)) between all pairs of sports. Are there any sports where we can reject the null hypothesis? Again, average values where a sport has multiple teams in one region. Remember, you will only be including, for each sport, cities which have teams engaged in that sport, drop others as appropriate. This question is worth 20% of the grade for this assignment."
   ]
  },
  {
   "cell_type": "code",
   "execution_count": 16,
   "metadata": {},
   "outputs": [],
   "source": [
    "# no la tuve bien :("
   ]
  },
  {
   "cell_type": "code",
   "execution_count": 10,
   "metadata": {},
   "outputs": [],
   "source": [
    "# Haciendo la funcion:\n",
    "def mi_funcion_chula_mod(game_df,game_column):# (nhl_df,\"NHL\")\n",
    "        \n",
    "    global cities\n",
    "    \n",
    "    # Seleccionando el año a analizar:\n",
    "    game_df = game_df[game_df[\"year\"] == 2018]\n",
    "    \n",
    "    # Haciendo limpieza y manejo de datos del dataframe a analizar:\n",
    "    game_df = game_df[game_df.iloc[:,0]!=game_df.iloc[:,1]]\n",
    "    game_df[\"team\"] = game_df[\"team\"].replace({\"\\s\\(\\d{1,2}\\)\":\"\"}, regex=True) # Elimina espacio y paréntesis    \n",
    "    game_df[\"team\"] = game_df[\"team\"].replace({\"\\+|\\*\":\"\"}, regex=True) # Elimina signo + o *\n",
    "    #game_df[\"team\"] = game_df[\"team\"].replace({\"[^\\w ]\":\"\"}, regex=True) # Es más general que la anterior\n",
    "    game_df[[\"W\",\"L\"]] = game_df[[\"W\",\"L\"]].apply(pd.to_numeric)\n",
    "    game_df[\"win/loss\"] = game_df[\"W\"]/(game_df[\"W\"]+game_df[\"L\"])\n",
    "    \n",
    "    # Haciendo limpieza y manejo de datos del dataframe \"Cities\"\n",
    "    cities = cities.replace({\"\\[[\\w ]*\\]\":\"\"}, regex=True)\n",
    "    cities[\"Population (2016 est.)[8]\"] = cities[\"Population (2016 est.)[8]\"].apply(pd.to_numeric)\n",
    "    \n",
    "    # Agregando las columnas necesarias para la correlación al dataframe a analizar:\n",
    "    metropolitan_area = []\n",
    "    population = []\n",
    "    for team in game_df[\"team\"]:\n",
    "        for teams in cities[game_column]:\n",
    "            if team.split(\" \")[-1] in teams:\n",
    "                row = cities[cities[game_column] == teams]\n",
    "                metropolitan_area.append(cities[\"Metropolitan area\"].iloc[row.index].iloc[0])\n",
    "                population.append(cities[\"Population (2016 est.)[8]\"].iloc[row.index].iloc[0])\n",
    "    game_df[\"Metropolitan area\"] = metropolitan_area\n",
    "    game_df[\"Population (2016 est.)[8]\"] = population\n",
    "    \n",
    "    #Hacemos un merge y lo ajustamos al orden del df \"cities\" con solo las columnas que nos interesan:\n",
    "    the_df = (pd.DataFrame.merge(cities, right=game_df, how=\"left\", on=\"Metropolitan area\")\n",
    "                 .dropna()[[\"Metropolitan area\",game_column,\"win/loss\"]])\n",
    "    \n",
    "    # El DataFrame resultante tiene 2 columnas para ser utilizadas en la correlación.\n",
    "    #result = the_df.groupby(\"Metropolitan area\", sort=False).agg({\"Population (2016 est.)[8]_x\": np.mean, \"win/loss\": np.mean})\n",
    "    \n",
    "    return the_df\n",
    "\n",
    "# La funcion debe retornar el df con las nuevas columnas"
   ]
  },
  {
   "cell_type": "code",
   "execution_count": 11,
   "metadata": {},
   "outputs": [
    {
     "data": {
      "text/html": [
       "<div>\n",
       "<style scoped>\n",
       "    .dataframe tbody tr th:only-of-type {\n",
       "        vertical-align: middle;\n",
       "    }\n",
       "\n",
       "    .dataframe tbody tr th {\n",
       "        vertical-align: top;\n",
       "    }\n",
       "\n",
       "    .dataframe thead th {\n",
       "        text-align: right;\n",
       "    }\n",
       "</style>\n",
       "<table border=\"1\" class=\"dataframe\">\n",
       "  <thead>\n",
       "    <tr style=\"text-align: right;\">\n",
       "      <th></th>\n",
       "      <th>Metropolitan area</th>\n",
       "      <th>NHL</th>\n",
       "      <th>win/loss</th>\n",
       "    </tr>\n",
       "  </thead>\n",
       "  <tbody>\n",
       "    <tr>\n",
       "      <th>0</th>\n",
       "      <td>New York City</td>\n",
       "      <td>RangersIslandersDevils</td>\n",
       "      <td>0.602740</td>\n",
       "    </tr>\n",
       "    <tr>\n",
       "      <th>1</th>\n",
       "      <td>New York City</td>\n",
       "      <td>RangersIslandersDevils</td>\n",
       "      <td>0.486111</td>\n",
       "    </tr>\n",
       "    <tr>\n",
       "      <th>2</th>\n",
       "      <td>New York City</td>\n",
       "      <td>RangersIslandersDevils</td>\n",
       "      <td>0.465753</td>\n",
       "    </tr>\n",
       "    <tr>\n",
       "      <th>3</th>\n",
       "      <td>Los Angeles</td>\n",
       "      <td>KingsDucks</td>\n",
       "      <td>0.637681</td>\n",
       "    </tr>\n",
       "    <tr>\n",
       "      <th>4</th>\n",
       "      <td>Los Angeles</td>\n",
       "      <td>KingsDucks</td>\n",
       "      <td>0.608108</td>\n",
       "    </tr>\n",
       "    <tr>\n",
       "      <th>5</th>\n",
       "      <td>San Francisco Bay Area</td>\n",
       "      <td>Sharks</td>\n",
       "      <td>0.625000</td>\n",
       "    </tr>\n",
       "    <tr>\n",
       "      <th>6</th>\n",
       "      <td>Chicago</td>\n",
       "      <td>Blackhawks</td>\n",
       "      <td>0.458333</td>\n",
       "    </tr>\n",
       "    <tr>\n",
       "      <th>7</th>\n",
       "      <td>Dallas–Fort Worth</td>\n",
       "      <td>Stars</td>\n",
       "      <td>0.567568</td>\n",
       "    </tr>\n",
       "    <tr>\n",
       "      <th>8</th>\n",
       "      <td>Washington, D.C.</td>\n",
       "      <td>Capitals</td>\n",
       "      <td>0.653333</td>\n",
       "    </tr>\n",
       "    <tr>\n",
       "      <th>9</th>\n",
       "      <td>Philadelphia</td>\n",
       "      <td>Flyers</td>\n",
       "      <td>0.617647</td>\n",
       "    </tr>\n",
       "    <tr>\n",
       "      <th>10</th>\n",
       "      <td>Boston</td>\n",
       "      <td>Bruins</td>\n",
       "      <td>0.714286</td>\n",
       "    </tr>\n",
       "    <tr>\n",
       "      <th>11</th>\n",
       "      <td>Minneapolis–Saint Paul</td>\n",
       "      <td>Wild</td>\n",
       "      <td>0.633803</td>\n",
       "    </tr>\n",
       "    <tr>\n",
       "      <th>12</th>\n",
       "      <td>Denver</td>\n",
       "      <td>Avalanche</td>\n",
       "      <td>0.589041</td>\n",
       "    </tr>\n",
       "    <tr>\n",
       "      <th>13</th>\n",
       "      <td>Miami–Fort Lauderdale</td>\n",
       "      <td>Panthers</td>\n",
       "      <td>0.594595</td>\n",
       "    </tr>\n",
       "    <tr>\n",
       "      <th>14</th>\n",
       "      <td>Phoenix</td>\n",
       "      <td>Coyotes</td>\n",
       "      <td>0.414286</td>\n",
       "    </tr>\n",
       "    <tr>\n",
       "      <th>15</th>\n",
       "      <td>Detroit</td>\n",
       "      <td>Red Wings</td>\n",
       "      <td>0.434783</td>\n",
       "    </tr>\n",
       "    <tr>\n",
       "      <th>16</th>\n",
       "      <td>Toronto</td>\n",
       "      <td>Maple Leafs</td>\n",
       "      <td>0.653333</td>\n",
       "    </tr>\n",
       "    <tr>\n",
       "      <th>19</th>\n",
       "      <td>Tampa Bay Area</td>\n",
       "      <td>Lightning</td>\n",
       "      <td>0.701299</td>\n",
       "    </tr>\n",
       "    <tr>\n",
       "      <th>20</th>\n",
       "      <td>Pittsburgh</td>\n",
       "      <td>Penguins</td>\n",
       "      <td>0.618421</td>\n",
       "    </tr>\n",
       "    <tr>\n",
       "      <th>25</th>\n",
       "      <td>St. Louis</td>\n",
       "      <td>Blues</td>\n",
       "      <td>0.578947</td>\n",
       "    </tr>\n",
       "    <tr>\n",
       "      <th>29</th>\n",
       "      <td>Nashville</td>\n",
       "      <td>Predators</td>\n",
       "      <td>0.746479</td>\n",
       "    </tr>\n",
       "    <tr>\n",
       "      <th>32</th>\n",
       "      <td>Buffalo</td>\n",
       "      <td>Sabres</td>\n",
       "      <td>0.357143</td>\n",
       "    </tr>\n",
       "    <tr>\n",
       "      <th>33</th>\n",
       "      <td>Montreal</td>\n",
       "      <td>Canadiens</td>\n",
       "      <td>0.420290</td>\n",
       "    </tr>\n",
       "    <tr>\n",
       "      <th>34</th>\n",
       "      <td>Vancouver</td>\n",
       "      <td>Canucks</td>\n",
       "      <td>0.436620</td>\n",
       "    </tr>\n",
       "    <tr>\n",
       "      <th>37</th>\n",
       "      <td>Columbus</td>\n",
       "      <td>Blue Jackets</td>\n",
       "      <td>0.600000</td>\n",
       "    </tr>\n",
       "    <tr>\n",
       "      <th>38</th>\n",
       "      <td>Calgary</td>\n",
       "      <td>Flames</td>\n",
       "      <td>0.513889</td>\n",
       "    </tr>\n",
       "    <tr>\n",
       "      <th>39</th>\n",
       "      <td>Ottawa</td>\n",
       "      <td>Senators</td>\n",
       "      <td>0.394366</td>\n",
       "    </tr>\n",
       "    <tr>\n",
       "      <th>40</th>\n",
       "      <td>Edmonton</td>\n",
       "      <td>Oilers</td>\n",
       "      <td>0.473684</td>\n",
       "    </tr>\n",
       "    <tr>\n",
       "      <th>42</th>\n",
       "      <td>Winnipeg</td>\n",
       "      <td>Jets</td>\n",
       "      <td>0.722222</td>\n",
       "    </tr>\n",
       "    <tr>\n",
       "      <th>46</th>\n",
       "      <td>Las Vegas</td>\n",
       "      <td>Golden Knights</td>\n",
       "      <td>0.680000</td>\n",
       "    </tr>\n",
       "    <tr>\n",
       "      <th>50</th>\n",
       "      <td>Raleigh</td>\n",
       "      <td>Hurricanes</td>\n",
       "      <td>0.507042</td>\n",
       "    </tr>\n",
       "  </tbody>\n",
       "</table>\n",
       "</div>"
      ],
      "text/plain": [
       "         Metropolitan area                     NHL  win/loss\n",
       "0            New York City  RangersIslandersDevils  0.602740\n",
       "1            New York City  RangersIslandersDevils  0.486111\n",
       "2            New York City  RangersIslandersDevils  0.465753\n",
       "3              Los Angeles              KingsDucks  0.637681\n",
       "4              Los Angeles              KingsDucks  0.608108\n",
       "5   San Francisco Bay Area                  Sharks  0.625000\n",
       "6                  Chicago              Blackhawks  0.458333\n",
       "7        Dallas–Fort Worth                   Stars  0.567568\n",
       "8         Washington, D.C.                Capitals  0.653333\n",
       "9             Philadelphia                  Flyers  0.617647\n",
       "10                  Boston                  Bruins  0.714286\n",
       "11  Minneapolis–Saint Paul                    Wild  0.633803\n",
       "12                  Denver               Avalanche  0.589041\n",
       "13   Miami–Fort Lauderdale                Panthers  0.594595\n",
       "14                 Phoenix                 Coyotes  0.414286\n",
       "15                 Detroit               Red Wings  0.434783\n",
       "16                 Toronto             Maple Leafs  0.653333\n",
       "19          Tampa Bay Area               Lightning  0.701299\n",
       "20              Pittsburgh                Penguins  0.618421\n",
       "25               St. Louis                   Blues  0.578947\n",
       "29               Nashville               Predators  0.746479\n",
       "32                 Buffalo                  Sabres  0.357143\n",
       "33                Montreal               Canadiens  0.420290\n",
       "34               Vancouver                 Canucks  0.436620\n",
       "37                Columbus            Blue Jackets  0.600000\n",
       "38                 Calgary                  Flames  0.513889\n",
       "39                  Ottawa                Senators  0.394366\n",
       "40                Edmonton                  Oilers  0.473684\n",
       "42                Winnipeg                    Jets  0.722222\n",
       "46               Las Vegas          Golden Knights  0.680000\n",
       "50                 Raleigh              Hurricanes  0.507042"
      ]
     },
     "execution_count": 11,
     "metadata": {},
     "output_type": "execute_result"
    }
   ],
   "source": [
    "mi_funcion_chula_mod(nhl_df,\"NHL\")"
   ]
  },
  {
   "cell_type": "code",
   "execution_count": 14,
   "metadata": {
    "deletable": false,
    "nbgrader": {
     "checksum": "6d78c961eb66f8d8c81f06d33ae8f393",
     "grade": false,
     "grade_id": "cell-92f25f44b8d1179f",
     "locked": false,
     "schema_version": 1,
     "solution": true
    }
   },
   "outputs": [],
   "source": [
    "import pandas as pd\n",
    "import numpy as np\n",
    "import scipy.stats as stats\n",
    "import re\n",
    "\n",
    "mlb_df=pd.read_csv(\"utf-8''mlb.csv\")\n",
    "mlb_df.iloc[0,0] = 'Red_Sox'\n",
    "mlb_df.iloc[8,0] = 'White_Sox'\n",
    "nhl_df=pd.read_csv(\"utf-8''nhl.csv\")\n",
    "nba_df=pd.read_csv(\"utf-8''nba.csv\")\n",
    "nfl_df=pd.read_csv(\"utf-8''nfl.csv\")\n",
    "cities=pd.read_html(\"utf-8''wikipedia_data.html\")[1]\n",
    "cities=cities.iloc[:-1,[0,3,5,6,7,8]]\n",
    "cities.iloc[3,3] = \"CubsWhite_Sox\"\n",
    "cities.iloc[7,3] = \"Red_Sox\"\n",
    "\n",
    "def sports_team_performance():\n",
    "    # YOUR CODE HERE\n",
    "    #raise NotImplementedError()\n",
    "    \n",
    "    # Note: p_values is a full dataframe, so df.loc[\"NFL\",\"NBA\"] should be the same as df.loc[\"NBA\",\"NFL\"] and\n",
    "    # df.loc[\"NFL\",\"NFL\"] should return np.nan\n",
    "    sports = ['NFL', 'NBA', 'NHL', 'MLB']\n",
    "    p_values = pd.DataFrame({k:np.nan for k in sports}, index=sports)\n",
    "    \n",
    "    assert abs(p_values.loc[\"NBA\", \"NHL\"] - 0.02) <= 1e-2, \"The NBA-NHL p-value should be around 0.02\"\n",
    "    assert abs(p_values.loc[\"MLB\", \"NFL\"] - 0.80) <= 1e-2, \"The MLB-NFL p-value should be around 0.80\"\n",
    "    return p_values"
   ]
  },
  {
   "cell_type": "code",
   "execution_count": 15,
   "metadata": {},
   "outputs": [
    {
     "ename": "AssertionError",
     "evalue": "The NBA-NHL p-value should be around 0.02",
     "output_type": "error",
     "traceback": [
      "\u001b[1;31m---------------------------------------------------------------------------\u001b[0m",
      "\u001b[1;31mAssertionError\u001b[0m                            Traceback (most recent call last)",
      "\u001b[1;32m<ipython-input-15-1c2712aa0a33>\u001b[0m in \u001b[0;36m<module>\u001b[1;34m\u001b[0m\n\u001b[1;32m----> 1\u001b[1;33m \u001b[0msports_team_performance\u001b[0m\u001b[1;33m(\u001b[0m\u001b[1;33m)\u001b[0m\u001b[1;33m\u001b[0m\u001b[1;33m\u001b[0m\u001b[0m\n\u001b[0m",
      "\u001b[1;32m<ipython-input-14-1a2212dac4c7>\u001b[0m in \u001b[0;36msports_team_performance\u001b[1;34m()\u001b[0m\n\u001b[0;32m     24\u001b[0m     \u001b[0mp_values\u001b[0m \u001b[1;33m=\u001b[0m \u001b[0mpd\u001b[0m\u001b[1;33m.\u001b[0m\u001b[0mDataFrame\u001b[0m\u001b[1;33m(\u001b[0m\u001b[1;33m{\u001b[0m\u001b[0mk\u001b[0m\u001b[1;33m:\u001b[0m\u001b[0mnp\u001b[0m\u001b[1;33m.\u001b[0m\u001b[0mnan\u001b[0m \u001b[1;32mfor\u001b[0m \u001b[0mk\u001b[0m \u001b[1;32min\u001b[0m \u001b[0msports\u001b[0m\u001b[1;33m}\u001b[0m\u001b[1;33m,\u001b[0m \u001b[0mindex\u001b[0m\u001b[1;33m=\u001b[0m\u001b[0msports\u001b[0m\u001b[1;33m)\u001b[0m\u001b[1;33m\u001b[0m\u001b[1;33m\u001b[0m\u001b[0m\n\u001b[0;32m     25\u001b[0m \u001b[1;33m\u001b[0m\u001b[0m\n\u001b[1;32m---> 26\u001b[1;33m     \u001b[1;32massert\u001b[0m \u001b[0mabs\u001b[0m\u001b[1;33m(\u001b[0m\u001b[0mp_values\u001b[0m\u001b[1;33m.\u001b[0m\u001b[0mloc\u001b[0m\u001b[1;33m[\u001b[0m\u001b[1;34m\"NBA\"\u001b[0m\u001b[1;33m,\u001b[0m \u001b[1;34m\"NHL\"\u001b[0m\u001b[1;33m]\u001b[0m \u001b[1;33m-\u001b[0m \u001b[1;36m0.02\u001b[0m\u001b[1;33m)\u001b[0m \u001b[1;33m<=\u001b[0m \u001b[1;36m1e-2\u001b[0m\u001b[1;33m,\u001b[0m \u001b[1;34m\"The NBA-NHL p-value should be around 0.02\"\u001b[0m\u001b[1;33m\u001b[0m\u001b[1;33m\u001b[0m\u001b[0m\n\u001b[0m\u001b[0;32m     27\u001b[0m     \u001b[1;32massert\u001b[0m \u001b[0mabs\u001b[0m\u001b[1;33m(\u001b[0m\u001b[0mp_values\u001b[0m\u001b[1;33m.\u001b[0m\u001b[0mloc\u001b[0m\u001b[1;33m[\u001b[0m\u001b[1;34m\"MLB\"\u001b[0m\u001b[1;33m,\u001b[0m \u001b[1;34m\"NFL\"\u001b[0m\u001b[1;33m]\u001b[0m \u001b[1;33m-\u001b[0m \u001b[1;36m0.80\u001b[0m\u001b[1;33m)\u001b[0m \u001b[1;33m<=\u001b[0m \u001b[1;36m1e-2\u001b[0m\u001b[1;33m,\u001b[0m \u001b[1;34m\"The MLB-NFL p-value should be around 0.80\"\u001b[0m\u001b[1;33m\u001b[0m\u001b[1;33m\u001b[0m\u001b[0m\n\u001b[0;32m     28\u001b[0m     \u001b[1;32mreturn\u001b[0m \u001b[0mp_values\u001b[0m\u001b[1;33m\u001b[0m\u001b[1;33m\u001b[0m\u001b[0m\n",
      "\u001b[1;31mAssertionError\u001b[0m: The NBA-NHL p-value should be around 0.02"
     ]
    }
   ],
   "source": [
    "sports_team_performance()"
   ]
  },
  {
   "cell_type": "code",
   "execution_count": null,
   "metadata": {
    "deletable": false,
    "editable": false,
    "nbgrader": {
     "checksum": "2a596ab421a45cc01168d10e8fbb8f89",
     "grade": true,
     "grade_id": "cell-fb4b9cb5ff4570a6",
     "locked": true,
     "points": 20,
     "schema_version": 1,
     "solution": false
    }
   },
   "outputs": [],
   "source": []
  }
 ],
 "metadata": {
  "coursera": {
   "schema_names": [
    "mooc_adswpy_1_v2_assignment4"
   ]
  },
  "kernelspec": {
   "display_name": "Python 3",
   "language": "python",
   "name": "python3"
  },
  "language_info": {
   "codemirror_mode": {
    "name": "ipython",
    "version": 3
   },
   "file_extension": ".py",
   "mimetype": "text/x-python",
   "name": "python",
   "nbconvert_exporter": "python",
   "pygments_lexer": "ipython3",
   "version": "3.8.5"
  }
 },
 "nbformat": 4,
 "nbformat_minor": 4
}
